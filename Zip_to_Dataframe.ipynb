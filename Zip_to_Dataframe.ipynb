{
 "cells": [
  {
   "cell_type": "markdown",
   "id": "bc7fca90",
   "metadata": {},
   "source": [
    "# Getting files of a library\n",
    "Let us assume that we want to insert some python libraries into a zip file.\n",
    "For example I want to get the findspark application"
   ]
  },
  {
   "cell_type": "code",
   "execution_count": 1,
   "id": "1c10329a",
   "metadata": {},
   "outputs": [
    {
     "name": "stdout",
     "output_type": "stream",
     "text": [
      "Current working directory: /home/wsuser/work\n"
     ]
    }
   ],
   "source": [
    "# Import the os module\n",
    "import os\n",
    "# Path\n",
    "home = os.getcwd()\n",
    "# Print the current working directory\n",
    "print(\"Current working directory: {0}\".format(home))"
   ]
  },
  {
   "cell_type": "code",
   "execution_count": 2,
   "id": "55c56a86",
   "metadata": {},
   "outputs": [
    {
     "name": "stdout",
     "output_type": "stream",
     "text": [
      "/home/wsuser/work/folder\n",
      "Current working directory: /home/wsuser/work/folder\n"
     ]
    }
   ],
   "source": [
    "!mkdir folder\n",
    "# Join various path components\n",
    "target=os.path.join(home, \"folder\")\n",
    "print(target)\n",
    "# Change the current working directory\n",
    "os.chdir(target)\n",
    "# Print the current working directory\n",
    "print(\"Current working directory: {0}\".format(os.getcwd()))"
   ]
  },
  {
   "cell_type": "markdown",
   "id": "828c27d0",
   "metadata": {},
   "source": [
    "### Here we put the files that we want to convert to dataframe"
   ]
  },
  {
   "cell_type": "code",
   "execution_count": 3,
   "id": "72a23420",
   "metadata": {},
   "outputs": [
    {
     "name": "stdout",
     "output_type": "stream",
     "text": [
      "Collecting findspark\n",
      "  Downloading findspark-2.0.1-py2.py3-none-any.whl (4.4 kB)\n",
      "Saved ./findspark-2.0.1-py2.py3-none-any.whl\n",
      "Successfully downloaded findspark\n"
     ]
    }
   ],
   "source": [
    "!pip download findspark "
   ]
  },
  {
   "cell_type": "markdown",
   "id": "a7c90db5",
   "metadata": {},
   "source": [
    "Printing the files to be inserted into the dataframe"
   ]
  },
  {
   "cell_type": "code",
   "execution_count": 4,
   "id": "db27ee23",
   "metadata": {},
   "outputs": [
    {
     "name": "stdout",
     "output_type": "stream",
     "text": [
      "findspark-2.0.1-py2.py3-none-any.whl\r\n"
     ]
    }
   ],
   "source": [
    "!dir"
   ]
  },
  {
   "cell_type": "code",
   "execution_count": 5,
   "id": "f2247e00",
   "metadata": {},
   "outputs": [],
   "source": [
    "# Change the current working directory\n",
    "os.chdir(home)"
   ]
  },
  {
   "cell_type": "markdown",
   "id": "132860b0",
   "metadata": {},
   "source": [
    "We are interested to zip the folder by using python"
   ]
  },
  {
   "cell_type": "markdown",
   "id": "88f650e2",
   "metadata": {},
   "source": [
    "# Zip files python\n",
    "\n",
    "Here we want to create a program that creates  a zip file of all the files contained in a certain folder."
   ]
  },
  {
   "cell_type": "code",
   "execution_count": 6,
   "id": "e2463901",
   "metadata": {},
   "outputs": [
    {
     "name": "stdout",
     "output_type": "stream",
     "text": [
      "/home/wsuser/work/folder\n"
     ]
    }
   ],
   "source": [
    "#importing the os module\n",
    "import glob\n",
    "import os\n",
    "#to get the current working directory\n",
    "current_dir=os.getcwd()\n",
    "# Join various path components\n",
    "folder_to_zip=os.path.join(current_dir, \"folder\")\n",
    "print(folder_to_zip)"
   ]
  },
  {
   "cell_type": "code",
   "execution_count": 7,
   "id": "99c42410",
   "metadata": {},
   "outputs": [],
   "source": [
    "def get_list_of_files(directory):\n",
    "    # Path\n",
    "    path = directory+\"/*\"\n",
    "    print(\"Looking files in the path:\",directory)\n",
    "    files_to_zip=glob.glob(path)\n",
    "    return  files_to_zip"
   ]
  },
  {
   "cell_type": "code",
   "execution_count": 8,
   "id": "50316e26",
   "metadata": {},
   "outputs": [],
   "source": [
    "from zipfile import ZipFile\n",
    "from io import BytesIO\n",
    "def create_zip(folder_to_zip):\n",
    "    \"\"\"\n",
    "    returns: zip archive\n",
    "    \"\"\"    \n",
    "    files_to_zip=get_list_of_files(folder_to_zip)\n",
    "    archive = BytesIO()\n",
    "    with ZipFile(archive, 'w') as zip_archive:\n",
    "        for file in files_to_zip:\n",
    "            print(file)\n",
    "            name=file[len(folder_to_zip)+1:]\n",
    "            print(name)\n",
    "            # Create n files on zip archive\n",
    "            with zip_archive.open(name, 'w') as files:\n",
    "                with open(file, 'rb') as file_data:\n",
    "                    bytes_content = file_data.read()\n",
    "                    files.write(bytes_content)\n",
    "    return archive"
   ]
  },
  {
   "cell_type": "code",
   "execution_count": 9,
   "id": "fa53f5f6",
   "metadata": {},
   "outputs": [
    {
     "name": "stdout",
     "output_type": "stream",
     "text": [
      "Looking files in the path: /home/wsuser/work/folder\n",
      "/home/wsuser/work/folder/findspark-2.0.1-py2.py3-none-any.whl\n",
      "findspark-2.0.1-py2.py3-none-any.whl\n"
     ]
    }
   ],
   "source": [
    "archive = create_zip(folder_to_zip)"
   ]
  },
  {
   "cell_type": "code",
   "execution_count": 10,
   "id": "7e6a3b47",
   "metadata": {},
   "outputs": [],
   "source": [
    "# Flush archive stream to a file on disk\n",
    "with open('data.zip', 'wb') as f:\n",
    "    f.write(archive.getbuffer())"
   ]
  },
  {
   "cell_type": "code",
   "execution_count": 11,
   "id": "aff32761",
   "metadata": {},
   "outputs": [
    {
     "data": {
      "text/plain": [
       "_io.BytesIO"
      ]
     },
     "execution_count": 11,
     "metadata": {},
     "output_type": "execute_result"
    }
   ],
   "source": [
    "type(archive)"
   ]
  },
  {
   "cell_type": "code",
   "execution_count": 12,
   "id": "1da171bf",
   "metadata": {},
   "outputs": [],
   "source": [
    "archive.close()"
   ]
  },
  {
   "cell_type": "code",
   "execution_count": 13,
   "id": "94c2b7b5",
   "metadata": {},
   "outputs": [
    {
     "name": "stdout",
     "output_type": "stream",
     "text": [
      "I am on Unix\n",
      "-rw-rw---- 1 wsuser wscommon 4616 Feb 26 19:40 data.zip\n"
     ]
    }
   ],
   "source": [
    "if os.name == 'nt':\n",
    "    print('I am Windows')\n",
    "    !dir *.zip\n",
    "else:\n",
    "    print('I am on Unix')\n",
    "    !ls *.zip -ltr"
   ]
  },
  {
   "cell_type": "markdown",
   "id": "cd98bc8a",
   "metadata": {},
   "source": [
    "We have the file zip that we want to convert insert into the dataframe"
   ]
  },
  {
   "cell_type": "code",
   "execution_count": 14,
   "id": "7e7c2c29",
   "metadata": {},
   "outputs": [
    {
     "name": "stdout",
     "output_type": "stream",
     "text": [
      "<ZipInfo filename='findspark-2.0.1-py2.py3-none-any.whl' filemode='?rw-------' file_size=4446>\n",
      "\n",
      "There are 1 ZipInfo objects present in archive\n"
     ]
    }
   ],
   "source": [
    "from zipfile import ZipFile\n",
    "with ZipFile('data.zip') as zip_archive:\n",
    "    for item in zip_archive.filelist:\n",
    "        print(item)\n",
    "    print(f'\\nThere are {len(zip_archive.filelist)} ZipInfo objects present in archive')"
   ]
  },
  {
   "cell_type": "markdown",
   "id": "27d9afb2",
   "metadata": {},
   "source": [
    "## Read all files in .zip archive in python"
   ]
  },
  {
   "cell_type": "code",
   "execution_count": 15,
   "id": "af360b56",
   "metadata": {},
   "outputs": [],
   "source": [
    "archive = ZipFile('data.zip', 'r')"
   ]
  },
  {
   "cell_type": "code",
   "execution_count": 16,
   "id": "f4e60579",
   "metadata": {},
   "outputs": [],
   "source": [
    "files = archive.namelist()"
   ]
  },
  {
   "cell_type": "code",
   "execution_count": 17,
   "id": "bb20cae9",
   "metadata": {},
   "outputs": [
    {
     "data": {
      "text/plain": [
       "['findspark-2.0.1-py2.py3-none-any.whl']"
      ]
     },
     "execution_count": 17,
     "metadata": {},
     "output_type": "execute_result"
    }
   ],
   "source": [
    "files"
   ]
  },
  {
   "cell_type": "code",
   "execution_count": 18,
   "id": "2395a5e1",
   "metadata": {},
   "outputs": [
    {
     "data": {
      "text/plain": [
       "zipfile.ZipFile"
      ]
     },
     "execution_count": 18,
     "metadata": {},
     "output_type": "execute_result"
    }
   ],
   "source": [
    "type(archive)"
   ]
  },
  {
   "cell_type": "code",
   "execution_count": 19,
   "id": "04b43423",
   "metadata": {},
   "outputs": [
    {
     "name": "stdout",
     "output_type": "stream",
     "text": [
      "File: findspark-2.0.1-py2.py3-none-any.whl\n",
      "<class 'bytes'>\n",
      "has 4446 bytes\n"
     ]
    }
   ],
   "source": [
    "import zipfile\n",
    "z = zipfile.ZipFile(\"data.zip\", \"r\")\n",
    "for filename in z.namelist(  ):\n",
    "    print('File:', filename),\n",
    "    byt = z.read(filename)\n",
    "    print(type(byt))\n",
    "    print ('has',len(byt),'bytes')"
   ]
  },
  {
   "cell_type": "code",
   "execution_count": 20,
   "id": "5a6894b2",
   "metadata": {},
   "outputs": [
    {
     "name": "stdout",
     "output_type": "stream",
     "text": [
      "b'PK\\x03\\x04\\x14\\x00\\x00\\x00\\x08\\x00'\n"
     ]
    },
    {
     "data": {
      "text/plain": [
       "bytes"
      ]
     },
     "execution_count": 20,
     "metadata": {},
     "output_type": "execute_result"
    }
   ],
   "source": [
    "print(byt[:10])\n",
    "type(byt)"
   ]
  },
  {
   "cell_type": "code",
   "execution_count": 21,
   "id": "ffab029e",
   "metadata": {},
   "outputs": [],
   "source": [
    "import base64"
   ]
  },
  {
   "cell_type": "code",
   "execution_count": 22,
   "id": "1f484fc9",
   "metadata": {},
   "outputs": [
    {
     "name": "stdout",
     "output_type": "stream",
     "text": [
      "b'UEsDBBQAAA'\n"
     ]
    },
    {
     "data": {
      "text/plain": [
       "bytes"
      ]
     },
     "execution_count": 22,
     "metadata": {},
     "output_type": "execute_result"
    }
   ],
   "source": [
    "base64_encoded_data = base64.b64encode(byt)\n",
    "print(base64_encoded_data[:10])\n",
    "type(base64_encoded_data)"
   ]
  },
  {
   "cell_type": "code",
   "execution_count": 23,
   "id": "db1a3187",
   "metadata": {},
   "outputs": [],
   "source": [
    "base64_message = base64_encoded_data.decode('utf-8')"
   ]
  },
  {
   "cell_type": "code",
   "execution_count": 24,
   "id": "fa634ed6",
   "metadata": {},
   "outputs": [
    {
     "name": "stdout",
     "output_type": "stream",
     "text": [
      "UEsDBBQAAA\n"
     ]
    },
    {
     "data": {
      "text/plain": [
       "str"
      ]
     },
     "execution_count": 24,
     "metadata": {},
     "output_type": "execute_result"
    }
   ],
   "source": [
    "print(base64_message[:10])\n",
    "type(base64_message)"
   ]
  },
  {
   "cell_type": "markdown",
   "id": "3050b3c7",
   "metadata": {},
   "source": [
    "Line 3: We encode string, cast to byte object.\n",
    "\n",
    "Line 5: We use the decode() method with utf8 encoding scheme to transform from encoded values to a string object.\n",
    "\n",
    "Line 7: We print decoded values"
   ]
  },
  {
   "cell_type": "code",
   "execution_count": 25,
   "id": "03907350",
   "metadata": {},
   "outputs": [
    {
     "name": "stdout",
     "output_type": "stream",
     "text": [
      "Decoded bytes: EDPRESSO\n"
     ]
    }
   ],
   "source": [
    "# String of encoded codes\n",
    "# For word EDPRESSO\n",
    "bytes= b'\\x45\\x44\\x50\\x52\\x45\\x53\\x53\\x4f'\n",
    "# Using encoding scheme: UTF8\n",
    "bytes= bytes.decode('utf8')\n",
    "# Show results\n",
    "print (\"Decoded bytes: \" + bytes)"
   ]
  },
  {
   "cell_type": "markdown",
   "id": "8b09c1d3",
   "metadata": {},
   "source": [
    "There different ways to encode the zip file"
   ]
  },
  {
   "cell_type": "markdown",
   "id": "5aa1fefd",
   "metadata": {},
   "source": [
    "##  Converting zip files to bytes and encode"
   ]
  },
  {
   "cell_type": "code",
   "execution_count": 26,
   "id": "61d9f56f",
   "metadata": {},
   "outputs": [
    {
     "name": "stdout",
     "output_type": "stream",
     "text": [
      "<class 'bytes'>\n"
     ]
    }
   ],
   "source": [
    "import base64\n",
    "with open(\"data.zip\", 'rb') as f:\n",
    "    data = f.read()\n",
    "    print(type(data))\n",
    "    #print(data)\n",
    "    encoded = base64.b64encode(data)"
   ]
  },
  {
   "cell_type": "markdown",
   "id": "c016e713",
   "metadata": {},
   "source": [
    "Let us print the first 10 characters of our zip data"
   ]
  },
  {
   "cell_type": "code",
   "execution_count": 27,
   "id": "f176ae44",
   "metadata": {},
   "outputs": [
    {
     "name": "stdout",
     "output_type": "stream",
     "text": [
      "Undecoded zip data:  b'PK\\x03\\x04\\x14\\x00\\x00\\x00\\x00\\x00'\n"
     ]
    }
   ],
   "source": [
    "print('Undecoded zip data: ',data[:10])"
   ]
  },
  {
   "cell_type": "code",
   "execution_count": 28,
   "id": "48681617",
   "metadata": {},
   "outputs": [
    {
     "name": "stdout",
     "output_type": "stream",
     "text": [
      "Encoded zip data:  b'UEsDBBQAAA'\n"
     ]
    }
   ],
   "source": [
    "print('Encoded zip data: ',encoded[:10])"
   ]
  },
  {
   "cell_type": "code",
   "execution_count": 29,
   "id": "7fcb1345",
   "metadata": {},
   "outputs": [
    {
     "data": {
      "text/plain": [
       "bytes"
      ]
     },
     "execution_count": 29,
     "metadata": {},
     "output_type": "execute_result"
    }
   ],
   "source": [
    "type(data)"
   ]
  },
  {
   "cell_type": "code",
   "execution_count": 30,
   "id": "7b6d77ed",
   "metadata": {},
   "outputs": [
    {
     "data": {
      "text/plain": [
       "bytes"
      ]
     },
     "execution_count": 30,
     "metadata": {},
     "output_type": "execute_result"
    }
   ],
   "source": [
    "type(encoded)"
   ]
  },
  {
   "cell_type": "markdown",
   "id": "4d2b55aa",
   "metadata": {},
   "source": [
    "##  Converting bytes to string - from encoding"
   ]
  },
  {
   "cell_type": "code",
   "execution_count": 31,
   "id": "dd3b8aa5",
   "metadata": {},
   "outputs": [
    {
     "name": "stdout",
     "output_type": "stream",
     "text": [
      "\n",
      "Input:\n",
      "b'UEsDBBQAAA'\n",
      "<class 'bytes'>\n",
      "\n",
      "Output:\n",
      "UEsDBBQAAA\n",
      "<class 'str'>\n"
     ]
    }
   ],
   "source": [
    "# Program for converting bytes to string using decode()\n",
    "data =encoded\n",
    " \n",
    "# display input\n",
    "print('\\nInput:')\n",
    "print(data[:10])\n",
    "print(type(data))\n",
    " \n",
    "# converting\n",
    "output = str(data, 'UTF-8')\n",
    " \n",
    "# display output\n",
    "print('\\nOutput:')\n",
    "print(output[:10])\n",
    "print(type(output))"
   ]
  },
  {
   "cell_type": "code",
   "execution_count": 32,
   "id": "9cde0953",
   "metadata": {},
   "outputs": [
    {
     "name": "stdout",
     "output_type": "stream",
     "text": [
      "0    UEsDBBQAAAAAAAAAIQAZwvYbXhEAAF4RAAAkAAAAZmluZH...\n",
      "Name: encoded, dtype: object\n"
     ]
    }
   ],
   "source": [
    "import pandas as pd\n",
    "dic = {'encoded' : [encoded]}\n",
    "df = pd.DataFrame(data=dic)\n",
    "x = df['encoded'].str.decode(\"utf-8\")\n",
    "#df['decoded']=x\n",
    "print(x)"
   ]
  },
  {
   "cell_type": "code",
   "execution_count": 33,
   "id": "052728f5",
   "metadata": {},
   "outputs": [
    {
     "data": {
      "text/plain": [
       "encoded    object\n",
       "dtype: object"
      ]
     },
     "execution_count": 33,
     "metadata": {},
     "output_type": "execute_result"
    }
   ],
   "source": [
    "df.dtypes"
   ]
  },
  {
   "cell_type": "code",
   "execution_count": 34,
   "id": "f979f7d9",
   "metadata": {},
   "outputs": [
    {
     "data": {
      "text/html": [
       "<div>\n",
       "<style scoped>\n",
       "    .dataframe tbody tr th:only-of-type {\n",
       "        vertical-align: middle;\n",
       "    }\n",
       "\n",
       "    .dataframe tbody tr th {\n",
       "        vertical-align: top;\n",
       "    }\n",
       "\n",
       "    .dataframe thead th {\n",
       "        text-align: right;\n",
       "    }\n",
       "</style>\n",
       "<table border=\"1\" class=\"dataframe\">\n",
       "  <thead>\n",
       "    <tr style=\"text-align: right;\">\n",
       "      <th></th>\n",
       "      <th>encoded</th>\n",
       "    </tr>\n",
       "  </thead>\n",
       "  <tbody>\n",
       "    <tr>\n",
       "      <th>0</th>\n",
       "      <td>b'UEsDBBQAAAAAAAAAIQAZwvYbXhEAAF4RAAAkAAAAZmlu...</td>\n",
       "    </tr>\n",
       "  </tbody>\n",
       "</table>\n",
       "</div>"
      ],
      "text/plain": [
       "                                             encoded\n",
       "0  b'UEsDBBQAAAAAAAAAIQAZwvYbXhEAAF4RAAAkAAAAZmlu..."
      ]
     },
     "execution_count": 34,
     "metadata": {},
     "output_type": "execute_result"
    }
   ],
   "source": [
    "df.head()"
   ]
  },
  {
   "cell_type": "code",
   "execution_count": 35,
   "id": "162fe9fd",
   "metadata": {},
   "outputs": [
    {
     "data": {
      "text/plain": [
       "Index       128\n",
       "encoded    6197\n",
       "dtype: int64"
      ]
     },
     "execution_count": 35,
     "metadata": {},
     "output_type": "execute_result"
    }
   ],
   "source": [
    "df.memory_usage(deep=True)"
   ]
  },
  {
   "cell_type": "code",
   "execution_count": 36,
   "id": "c17236d2",
   "metadata": {},
   "outputs": [
    {
     "name": "stdout",
     "output_type": "stream",
     "text": [
      "<class 'pandas.core.frame.DataFrame'>\n",
      "RangeIndex: 1 entries, 0 to 0\n",
      "Data columns (total 1 columns):\n",
      " #   Column   Non-Null Count  Dtype \n",
      "---  ------   --------------  ----- \n",
      " 0   encoded  1 non-null      object\n",
      "dtypes: object(1)\n",
      "memory usage: 6.2 KB\n"
     ]
    }
   ],
   "source": [
    "df.info(memory_usage='deep')"
   ]
  },
  {
   "cell_type": "code",
   "execution_count": 37,
   "id": "496c65bf",
   "metadata": {},
   "outputs": [],
   "source": [
    "df.to_csv('df_zip.csv')  "
   ]
  },
  {
   "cell_type": "markdown",
   "id": "89ed43cd",
   "metadata": {},
   "source": [
    "# Reading zipped dataframe"
   ]
  },
  {
   "cell_type": "code",
   "execution_count": 38,
   "id": "beff8ef1",
   "metadata": {},
   "outputs": [],
   "source": [
    "df_new=pd.read_csv('df_zip.csv')  "
   ]
  },
  {
   "cell_type": "code",
   "execution_count": 39,
   "id": "700dd8a2",
   "metadata": {},
   "outputs": [
    {
     "data": {
      "text/plain": [
       "Unnamed: 0     int64\n",
       "encoded       object\n",
       "dtype: object"
      ]
     },
     "execution_count": 39,
     "metadata": {},
     "output_type": "execute_result"
    }
   ],
   "source": [
    "df_new.dtypes"
   ]
  },
  {
   "cell_type": "code",
   "execution_count": 40,
   "id": "2888039e",
   "metadata": {},
   "outputs": [
    {
     "data": {
      "text/plain": [
       "Index          128\n",
       "Unnamed: 0       8\n",
       "encoded       6216\n",
       "dtype: int64"
      ]
     },
     "execution_count": 40,
     "metadata": {},
     "output_type": "execute_result"
    }
   ],
   "source": [
    "df_new.memory_usage(deep=True)"
   ]
  },
  {
   "cell_type": "code",
   "execution_count": 41,
   "id": "7c093df8",
   "metadata": {},
   "outputs": [
    {
     "data": {
      "text/html": [
       "<div>\n",
       "<style scoped>\n",
       "    .dataframe tbody tr th:only-of-type {\n",
       "        vertical-align: middle;\n",
       "    }\n",
       "\n",
       "    .dataframe tbody tr th {\n",
       "        vertical-align: top;\n",
       "    }\n",
       "\n",
       "    .dataframe thead th {\n",
       "        text-align: right;\n",
       "    }\n",
       "</style>\n",
       "<table border=\"1\" class=\"dataframe\">\n",
       "  <thead>\n",
       "    <tr style=\"text-align: right;\">\n",
       "      <th></th>\n",
       "      <th>Unnamed: 0</th>\n",
       "      <th>encoded</th>\n",
       "    </tr>\n",
       "  </thead>\n",
       "  <tbody>\n",
       "    <tr>\n",
       "      <th>0</th>\n",
       "      <td>0</td>\n",
       "      <td>b'UEsDBBQAAAAAAAAAIQAZwvYbXhEAAF4RAAAkAAAAZmlu...</td>\n",
       "    </tr>\n",
       "  </tbody>\n",
       "</table>\n",
       "</div>"
      ],
      "text/plain": [
       "   Unnamed: 0                                            encoded\n",
       "0           0  b'UEsDBBQAAAAAAAAAIQAZwvYbXhEAAF4RAAAkAAAAZmlu..."
      ]
     },
     "execution_count": 41,
     "metadata": {},
     "output_type": "execute_result"
    }
   ],
   "source": [
    "df_new.head()"
   ]
  },
  {
   "cell_type": "markdown",
   "id": "125fa5fc",
   "metadata": {},
   "source": [
    "# Unzip zipped dataframe"
   ]
  },
  {
   "cell_type": "markdown",
   "id": "45573f97",
   "metadata": {},
   "source": [
    "## Encoded bytes to zip file "
   ]
  },
  {
   "cell_type": "code",
   "execution_count": 42,
   "id": "b5483186",
   "metadata": {},
   "outputs": [],
   "source": [
    "# String of encoded codes\n",
    "string_bytes=df_new['encoded'][0]"
   ]
  },
  {
   "cell_type": "code",
   "execution_count": 43,
   "id": "dc3046a9",
   "metadata": {},
   "outputs": [
    {
     "data": {
      "text/plain": [
       "str"
      ]
     },
     "execution_count": 43,
     "metadata": {},
     "output_type": "execute_result"
    }
   ],
   "source": [
    "type(string_bytes)"
   ]
  },
  {
   "cell_type": "code",
   "execution_count": 44,
   "id": "0c7a81a8",
   "metadata": {},
   "outputs": [],
   "source": [
    "size=len(string_bytes)"
   ]
  },
  {
   "cell_type": "code",
   "execution_count": 45,
   "id": "e41faf72",
   "metadata": {},
   "outputs": [],
   "source": [
    "string=string_bytes[2:size]"
   ]
  },
  {
   "cell_type": "code",
   "execution_count": 46,
   "id": "7cd0cbec",
   "metadata": {},
   "outputs": [
    {
     "data": {
      "text/plain": [
       "'UEsDBBQAAA'"
      ]
     },
     "execution_count": 46,
     "metadata": {},
     "output_type": "execute_result"
    }
   ],
   "source": [
    "string[:10]"
   ]
  },
  {
   "cell_type": "markdown",
   "id": "6cbef06b",
   "metadata": {},
   "source": [
    "We compare with the original"
   ]
  },
  {
   "cell_type": "code",
   "execution_count": 47,
   "id": "7232446c",
   "metadata": {},
   "outputs": [],
   "source": [
    "string_bytes_original=df['encoded'].str.decode(\"utf-8\")[0]"
   ]
  },
  {
   "cell_type": "code",
   "execution_count": 48,
   "id": "15de7bd4",
   "metadata": {},
   "outputs": [
    {
     "data": {
      "text/plain": [
       "str"
      ]
     },
     "execution_count": 48,
     "metadata": {},
     "output_type": "execute_result"
    }
   ],
   "source": [
    "type(str(string_bytes_original))"
   ]
  },
  {
   "cell_type": "code",
   "execution_count": 49,
   "id": "99dd993e",
   "metadata": {},
   "outputs": [
    {
     "data": {
      "text/plain": [
       "'UEsDBBQAAA'"
      ]
     },
     "execution_count": 49,
     "metadata": {},
     "output_type": "execute_result"
    }
   ],
   "source": [
    "string_bytes_original[:10]"
   ]
  },
  {
   "cell_type": "markdown",
   "id": "f85a3b79",
   "metadata": {},
   "source": [
    "We decode our encoded string"
   ]
  },
  {
   "cell_type": "code",
   "execution_count": 50,
   "id": "46e7084b",
   "metadata": {},
   "outputs": [],
   "source": [
    "byte_decoded=base64.b64decode(string)"
   ]
  },
  {
   "cell_type": "code",
   "execution_count": 51,
   "id": "deb83664",
   "metadata": {},
   "outputs": [],
   "source": [
    "bin_data=byte_decoded #Whatever binary data you have store in a variable"
   ]
  },
  {
   "cell_type": "code",
   "execution_count": 52,
   "id": "9d6cfe65",
   "metadata": {},
   "outputs": [],
   "source": [
    "binary_file_path = 'new_file.zip' #Name for new zip file you want to regenerate\n",
    "with open(binary_file_path, 'wb') as f:\n",
    "    f.write(bin_data)"
   ]
  },
  {
   "cell_type": "markdown",
   "id": "31974fdc",
   "metadata": {},
   "source": [
    "checking our new_file.zip"
   ]
  },
  {
   "cell_type": "code",
   "execution_count": 53,
   "id": "2beabf62",
   "metadata": {},
   "outputs": [
    {
     "name": "stdout",
     "output_type": "stream",
     "text": [
      "<ZipInfo filename='findspark-2.0.1-py2.py3-none-any.whl' filemode='?rw-------' file_size=4446>\n",
      "\n",
      "There are 1 ZipInfo objects present in archive\n"
     ]
    }
   ],
   "source": [
    "from zipfile import ZipFile\n",
    "with ZipFile('new_file.zip') as zip_archive:\n",
    "  for item in zip_archive.filelist:\n",
    "    print(item)\n",
    "  print(f'\\nThere are {len(zip_archive.filelist)} ZipInfo objects present in archive')"
   ]
  },
  {
   "cell_type": "code",
   "execution_count": 54,
   "id": "e58f1805",
   "metadata": {},
   "outputs": [
    {
     "name": "stdout",
     "output_type": "stream",
     "text": [
      "I am on Unix\n",
      "total 28K\n",
      "drwxrwx--- 2 wsuser wscommon 4.0K Feb 26 19:40 folder\n",
      "-rw-rw---- 1 wsuser wscommon 4.6K Feb 26 19:40 data.zip\n",
      "-rw-rw---- 1 wsuser wscommon 6.1K Feb 26 19:40 df_zip.csv\n",
      "-rw-rw---- 1 wsuser wscommon 4.6K Feb 26 19:40 new_file.zip\n"
     ]
    }
   ],
   "source": [
    "if os.name == 'nt':\n",
    "    print('I am Windows')\n",
    "    !dir\n",
    "else:\n",
    "    print('I am on Unix')\n",
    "    !ls -ltrh"
   ]
  }
 ],
 "metadata": {
  "kernelspec": {
   "display_name": "Python 3 (ipykernel)",
   "language": "python",
   "name": "python3"
  },
  "language_info": {
   "codemirror_mode": {
    "name": "ipython",
    "version": 3
   },
   "file_extension": ".py",
   "mimetype": "text/x-python",
   "name": "python",
   "nbconvert_exporter": "python",
   "pygments_lexer": "ipython3",
   "version": "3.8.0"
  }
 },
 "nbformat": 4,
 "nbformat_minor": 5
}
